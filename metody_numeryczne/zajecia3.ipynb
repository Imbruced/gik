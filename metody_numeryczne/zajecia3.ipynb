{
 "cells": [
  {
   "cell_type": "code",
   "execution_count": 12,
   "metadata": {
    "collapsed": true
   },
   "outputs": [],
   "source": [
    "# f'(x) = lim(h->0)(f(x+h))\n",
    "import pandas as pd"
   ]
  },
  {
   "cell_type": "code",
   "execution_count": 59,
   "metadata": {},
   "outputs": [],
   "source": [
    "h_list = [1/(10**x) for x in range(1,100)]\n",
    "list_of_data = []\n",
    "for index, element in enumerate(h_list):\n",
    "    result = (((2+element)**2) - (2**2))/(element)\n",
    "#     if result ==0:\n",
    "#         print(index, result, element)\n",
    "#         break\n",
    "    list_of_data.append([result, element, index, 4-result])\n",
    "dataframe = pd.DataFrame(list_of_data, columns=['result', 'element', 'index', 'roznica'])"
   ]
  },
  {
   "cell_type": "code",
   "execution_count": 27,
   "metadata": {},
   "outputs": [
    {
     "data": {
      "text/html": [
       "<div>\n",
       "<style>\n",
       "    .dataframe thead tr:only-child th {\n",
       "        text-align: right;\n",
       "    }\n",
       "\n",
       "    .dataframe thead th {\n",
       "        text-align: left;\n",
       "    }\n",
       "\n",
       "    .dataframe tbody tr th {\n",
       "        vertical-align: top;\n",
       "    }\n",
       "</style>\n",
       "<table border=\"1\" class=\"dataframe\">\n",
       "  <thead>\n",
       "    <tr style=\"text-align: right;\">\n",
       "      <th></th>\n",
       "      <th>result</th>\n",
       "      <th>element</th>\n",
       "      <th>index</th>\n",
       "      <th>roznica</th>\n",
       "    </tr>\n",
       "  </thead>\n",
       "  <tbody>\n",
       "    <tr>\n",
       "      <th>0</th>\n",
       "      <td>4.100000</td>\n",
       "      <td>1.000000e-01</td>\n",
       "      <td>0</td>\n",
       "      <td>-1.000000e-01</td>\n",
       "    </tr>\n",
       "    <tr>\n",
       "      <th>1</th>\n",
       "      <td>4.010000</td>\n",
       "      <td>1.000000e-02</td>\n",
       "      <td>1</td>\n",
       "      <td>-1.000000e-02</td>\n",
       "    </tr>\n",
       "    <tr>\n",
       "      <th>2</th>\n",
       "      <td>4.001000</td>\n",
       "      <td>1.000000e-03</td>\n",
       "      <td>2</td>\n",
       "      <td>-1.000000e-03</td>\n",
       "    </tr>\n",
       "    <tr>\n",
       "      <th>3</th>\n",
       "      <td>4.000100</td>\n",
       "      <td>1.000000e-04</td>\n",
       "      <td>3</td>\n",
       "      <td>-1.000000e-04</td>\n",
       "    </tr>\n",
       "    <tr>\n",
       "      <th>4</th>\n",
       "      <td>4.000010</td>\n",
       "      <td>1.000000e-05</td>\n",
       "      <td>4</td>\n",
       "      <td>-1.000003e-05</td>\n",
       "    </tr>\n",
       "    <tr>\n",
       "      <th>5</th>\n",
       "      <td>4.000001</td>\n",
       "      <td>1.000000e-06</td>\n",
       "      <td>5</td>\n",
       "      <td>-1.000648e-06</td>\n",
       "    </tr>\n",
       "    <tr>\n",
       "      <th>6</th>\n",
       "      <td>4.000000</td>\n",
       "      <td>1.000000e-07</td>\n",
       "      <td>6</td>\n",
       "      <td>-9.115331e-08</td>\n",
       "    </tr>\n",
       "    <tr>\n",
       "      <th>7</th>\n",
       "      <td>4.000000</td>\n",
       "      <td>1.000000e-08</td>\n",
       "      <td>7</td>\n",
       "      <td>2.430988e-08</td>\n",
       "    </tr>\n",
       "    <tr>\n",
       "      <th>8</th>\n",
       "      <td>4.000000</td>\n",
       "      <td>1.000000e-09</td>\n",
       "      <td>8</td>\n",
       "      <td>-3.309615e-07</td>\n",
       "    </tr>\n",
       "    <tr>\n",
       "      <th>9</th>\n",
       "      <td>4.000000</td>\n",
       "      <td>1.000000e-10</td>\n",
       "      <td>9</td>\n",
       "      <td>-3.309615e-07</td>\n",
       "    </tr>\n",
       "    <tr>\n",
       "      <th>10</th>\n",
       "      <td>4.000000</td>\n",
       "      <td>1.000000e-11</td>\n",
       "      <td>10</td>\n",
       "      <td>-3.309615e-07</td>\n",
       "    </tr>\n",
       "    <tr>\n",
       "      <th>11</th>\n",
       "      <td>4.000356</td>\n",
       "      <td>1.000000e-12</td>\n",
       "      <td>11</td>\n",
       "      <td>-3.556023e-04</td>\n",
       "    </tr>\n",
       "    <tr>\n",
       "      <th>12</th>\n",
       "      <td>3.996803</td>\n",
       "      <td>1.000000e-13</td>\n",
       "      <td>12</td>\n",
       "      <td>3.197111e-03</td>\n",
       "    </tr>\n",
       "    <tr>\n",
       "      <th>13</th>\n",
       "      <td>4.085621</td>\n",
       "      <td>1.000000e-14</td>\n",
       "      <td>13</td>\n",
       "      <td>-8.562073e-02</td>\n",
       "    </tr>\n",
       "    <tr>\n",
       "      <th>14</th>\n",
       "      <td>3.552714</td>\n",
       "      <td>1.000000e-15</td>\n",
       "      <td>14</td>\n",
       "      <td>4.472863e-01</td>\n",
       "    </tr>\n",
       "    <tr>\n",
       "      <th>15</th>\n",
       "      <td>0.000000</td>\n",
       "      <td>1.000000e-16</td>\n",
       "      <td>15</td>\n",
       "      <td>4.000000e+00</td>\n",
       "    </tr>\n",
       "    <tr>\n",
       "      <th>16</th>\n",
       "      <td>0.000000</td>\n",
       "      <td>1.000000e-17</td>\n",
       "      <td>16</td>\n",
       "      <td>4.000000e+00</td>\n",
       "    </tr>\n",
       "    <tr>\n",
       "      <th>17</th>\n",
       "      <td>0.000000</td>\n",
       "      <td>1.000000e-18</td>\n",
       "      <td>17</td>\n",
       "      <td>4.000000e+00</td>\n",
       "    </tr>\n",
       "    <tr>\n",
       "      <th>18</th>\n",
       "      <td>0.000000</td>\n",
       "      <td>1.000000e-19</td>\n",
       "      <td>18</td>\n",
       "      <td>4.000000e+00</td>\n",
       "    </tr>\n",
       "    <tr>\n",
       "      <th>19</th>\n",
       "      <td>0.000000</td>\n",
       "      <td>1.000000e-20</td>\n",
       "      <td>19</td>\n",
       "      <td>4.000000e+00</td>\n",
       "    </tr>\n",
       "  </tbody>\n",
       "</table>\n",
       "</div>"
      ],
      "text/plain": [
       "      result       element  index       roznica\n",
       "0   4.100000  1.000000e-01      0 -1.000000e-01\n",
       "1   4.010000  1.000000e-02      1 -1.000000e-02\n",
       "2   4.001000  1.000000e-03      2 -1.000000e-03\n",
       "3   4.000100  1.000000e-04      3 -1.000000e-04\n",
       "4   4.000010  1.000000e-05      4 -1.000003e-05\n",
       "5   4.000001  1.000000e-06      5 -1.000648e-06\n",
       "6   4.000000  1.000000e-07      6 -9.115331e-08\n",
       "7   4.000000  1.000000e-08      7  2.430988e-08\n",
       "8   4.000000  1.000000e-09      8 -3.309615e-07\n",
       "9   4.000000  1.000000e-10      9 -3.309615e-07\n",
       "10  4.000000  1.000000e-11     10 -3.309615e-07\n",
       "11  4.000356  1.000000e-12     11 -3.556023e-04\n",
       "12  3.996803  1.000000e-13     12  3.197111e-03\n",
       "13  4.085621  1.000000e-14     13 -8.562073e-02\n",
       "14  3.552714  1.000000e-15     14  4.472863e-01\n",
       "15  0.000000  1.000000e-16     15  4.000000e+00\n",
       "16  0.000000  1.000000e-17     16  4.000000e+00\n",
       "17  0.000000  1.000000e-18     17  4.000000e+00\n",
       "18  0.000000  1.000000e-19     18  4.000000e+00\n",
       "19  0.000000  1.000000e-20     19  4.000000e+00"
      ]
     },
     "execution_count": 27,
     "metadata": {},
     "output_type": "execute_result"
    }
   ],
   "source": [
    "dataframe.head(20)"
   ]
  },
  {
   "cell_type": "code",
   "execution_count": 24,
   "metadata": {},
   "outputs": [],
   "source": [
    "# d = 10**1000\n",
    "# e = d+1\n",
    "# g = (e - 10**1000)\n",
    "# print(g)"
   ]
  },
  {
   "cell_type": "code",
   "execution_count": 28,
   "metadata": {
    "collapsed": true
   },
   "outputs": [],
   "source": [
    "import numpy as np"
   ]
  },
  {
   "cell_type": "code",
   "execution_count": 29,
   "metadata": {
    "collapsed": true
   },
   "outputs": [],
   "source": [
    "array = np.array(list_of_data)"
   ]
  },
  {
   "cell_type": "code",
   "execution_count": 33,
   "metadata": {},
   "outputs": [
    {
     "data": {
      "text/plain": [
       "array([[  4.10000000e+00,   1.00000000e-01,   0.00000000e+00,\n",
       "         -1.00000000e-01],\n",
       "       [  4.01000000e+00,   1.00000000e-02,   1.00000000e+00,\n",
       "         -1.00000000e-02],\n",
       "       [  4.00100000e+00,   1.00000000e-03,   2.00000000e+00,\n",
       "         -1.00000000e-03],\n",
       "       [  4.00010000e+00,   1.00000000e-04,   3.00000000e+00,\n",
       "         -1.00000008e-04],\n",
       "       [  4.00001000e+00,   1.00000000e-05,   4.00000000e+00,\n",
       "         -1.00000270e-05],\n",
       "       [  4.00000100e+00,   1.00000000e-06,   5.00000000e+00,\n",
       "         -1.00064801e-06],\n",
       "       [  4.00000009e+00,   1.00000000e-07,   6.00000000e+00,\n",
       "         -9.11533107e-08],\n",
       "       [  3.99999998e+00,   1.00000000e-08,   7.00000000e+00,\n",
       "          2.43098839e-08],\n",
       "       [  4.00000033e+00,   1.00000000e-09,   8.00000000e+00,\n",
       "         -3.30961484e-07],\n",
       "       [  4.00000033e+00,   1.00000000e-10,   9.00000000e+00,\n",
       "         -3.30961484e-07],\n",
       "       [  4.00000033e+00,   1.00000000e-11,   1.00000000e+01,\n",
       "         -3.30961484e-07],\n",
       "       [  4.00035560e+00,   1.00000000e-12,   1.10000000e+01,\n",
       "         -3.55602329e-04],\n",
       "       [  3.99680289e+00,   1.00000000e-13,   1.20000000e+01,\n",
       "          3.19711135e-03],\n",
       "       [  4.08562073e+00,   1.00000000e-14,   1.30000000e+01,\n",
       "         -8.56207306e-02],\n",
       "       [  3.55271368e+00,   1.00000000e-15,   1.40000000e+01,\n",
       "          4.47286321e-01],\n",
       "       [  0.00000000e+00,   1.00000000e-16,   1.50000000e+01,\n",
       "          4.00000000e+00],\n",
       "       [  0.00000000e+00,   1.00000000e-17,   1.60000000e+01,\n",
       "          4.00000000e+00],\n",
       "       [  0.00000000e+00,   1.00000000e-18,   1.70000000e+01,\n",
       "          4.00000000e+00],\n",
       "       [  0.00000000e+00,   1.00000000e-19,   1.80000000e+01,\n",
       "          4.00000000e+00],\n",
       "       [  0.00000000e+00,   1.00000000e-20,   1.90000000e+01,\n",
       "          4.00000000e+00],\n",
       "       [  0.00000000e+00,   1.00000000e-21,   2.00000000e+01,\n",
       "          4.00000000e+00],\n",
       "       [  0.00000000e+00,   1.00000000e-22,   2.10000000e+01,\n",
       "          4.00000000e+00],\n",
       "       [  0.00000000e+00,   1.00000000e-23,   2.20000000e+01,\n",
       "          4.00000000e+00],\n",
       "       [  0.00000000e+00,   1.00000000e-24,   2.30000000e+01,\n",
       "          4.00000000e+00],\n",
       "       [  0.00000000e+00,   1.00000000e-25,   2.40000000e+01,\n",
       "          4.00000000e+00],\n",
       "       [  0.00000000e+00,   1.00000000e-26,   2.50000000e+01,\n",
       "          4.00000000e+00],\n",
       "       [  0.00000000e+00,   1.00000000e-27,   2.60000000e+01,\n",
       "          4.00000000e+00],\n",
       "       [  0.00000000e+00,   1.00000000e-28,   2.70000000e+01,\n",
       "          4.00000000e+00],\n",
       "       [  0.00000000e+00,   1.00000000e-29,   2.80000000e+01,\n",
       "          4.00000000e+00],\n",
       "       [  0.00000000e+00,   1.00000000e-30,   2.90000000e+01,\n",
       "          4.00000000e+00],\n",
       "       [  0.00000000e+00,   1.00000000e-31,   3.00000000e+01,\n",
       "          4.00000000e+00],\n",
       "       [  0.00000000e+00,   1.00000000e-32,   3.10000000e+01,\n",
       "          4.00000000e+00],\n",
       "       [  0.00000000e+00,   1.00000000e-33,   3.20000000e+01,\n",
       "          4.00000000e+00],\n",
       "       [  0.00000000e+00,   1.00000000e-34,   3.30000000e+01,\n",
       "          4.00000000e+00],\n",
       "       [  0.00000000e+00,   1.00000000e-35,   3.40000000e+01,\n",
       "          4.00000000e+00],\n",
       "       [  0.00000000e+00,   1.00000000e-36,   3.50000000e+01,\n",
       "          4.00000000e+00],\n",
       "       [  0.00000000e+00,   1.00000000e-37,   3.60000000e+01,\n",
       "          4.00000000e+00],\n",
       "       [  0.00000000e+00,   1.00000000e-38,   3.70000000e+01,\n",
       "          4.00000000e+00],\n",
       "       [  0.00000000e+00,   1.00000000e-39,   3.80000000e+01,\n",
       "          4.00000000e+00],\n",
       "       [  0.00000000e+00,   1.00000000e-40,   3.90000000e+01,\n",
       "          4.00000000e+00],\n",
       "       [  0.00000000e+00,   1.00000000e-41,   4.00000000e+01,\n",
       "          4.00000000e+00],\n",
       "       [  0.00000000e+00,   1.00000000e-42,   4.10000000e+01,\n",
       "          4.00000000e+00],\n",
       "       [  0.00000000e+00,   1.00000000e-43,   4.20000000e+01,\n",
       "          4.00000000e+00],\n",
       "       [  0.00000000e+00,   1.00000000e-44,   4.30000000e+01,\n",
       "          4.00000000e+00],\n",
       "       [  0.00000000e+00,   1.00000000e-45,   4.40000000e+01,\n",
       "          4.00000000e+00],\n",
       "       [  0.00000000e+00,   1.00000000e-46,   4.50000000e+01,\n",
       "          4.00000000e+00],\n",
       "       [  0.00000000e+00,   1.00000000e-47,   4.60000000e+01,\n",
       "          4.00000000e+00],\n",
       "       [  0.00000000e+00,   1.00000000e-48,   4.70000000e+01,\n",
       "          4.00000000e+00],\n",
       "       [  0.00000000e+00,   1.00000000e-49,   4.80000000e+01,\n",
       "          4.00000000e+00],\n",
       "       [  0.00000000e+00,   1.00000000e-50,   4.90000000e+01,\n",
       "          4.00000000e+00],\n",
       "       [  0.00000000e+00,   1.00000000e-51,   5.00000000e+01,\n",
       "          4.00000000e+00],\n",
       "       [  0.00000000e+00,   1.00000000e-52,   5.10000000e+01,\n",
       "          4.00000000e+00],\n",
       "       [  0.00000000e+00,   1.00000000e-53,   5.20000000e+01,\n",
       "          4.00000000e+00],\n",
       "       [  0.00000000e+00,   1.00000000e-54,   5.30000000e+01,\n",
       "          4.00000000e+00],\n",
       "       [  0.00000000e+00,   1.00000000e-55,   5.40000000e+01,\n",
       "          4.00000000e+00],\n",
       "       [  0.00000000e+00,   1.00000000e-56,   5.50000000e+01,\n",
       "          4.00000000e+00],\n",
       "       [  0.00000000e+00,   1.00000000e-57,   5.60000000e+01,\n",
       "          4.00000000e+00],\n",
       "       [  0.00000000e+00,   1.00000000e-58,   5.70000000e+01,\n",
       "          4.00000000e+00],\n",
       "       [  0.00000000e+00,   1.00000000e-59,   5.80000000e+01,\n",
       "          4.00000000e+00],\n",
       "       [  0.00000000e+00,   1.00000000e-60,   5.90000000e+01,\n",
       "          4.00000000e+00],\n",
       "       [  0.00000000e+00,   1.00000000e-61,   6.00000000e+01,\n",
       "          4.00000000e+00],\n",
       "       [  0.00000000e+00,   1.00000000e-62,   6.10000000e+01,\n",
       "          4.00000000e+00],\n",
       "       [  0.00000000e+00,   1.00000000e-63,   6.20000000e+01,\n",
       "          4.00000000e+00],\n",
       "       [  0.00000000e+00,   1.00000000e-64,   6.30000000e+01,\n",
       "          4.00000000e+00],\n",
       "       [  0.00000000e+00,   1.00000000e-65,   6.40000000e+01,\n",
       "          4.00000000e+00],\n",
       "       [  0.00000000e+00,   1.00000000e-66,   6.50000000e+01,\n",
       "          4.00000000e+00],\n",
       "       [  0.00000000e+00,   1.00000000e-67,   6.60000000e+01,\n",
       "          4.00000000e+00],\n",
       "       [  0.00000000e+00,   1.00000000e-68,   6.70000000e+01,\n",
       "          4.00000000e+00],\n",
       "       [  0.00000000e+00,   1.00000000e-69,   6.80000000e+01,\n",
       "          4.00000000e+00],\n",
       "       [  0.00000000e+00,   1.00000000e-70,   6.90000000e+01,\n",
       "          4.00000000e+00],\n",
       "       [  0.00000000e+00,   1.00000000e-71,   7.00000000e+01,\n",
       "          4.00000000e+00],\n",
       "       [  0.00000000e+00,   1.00000000e-72,   7.10000000e+01,\n",
       "          4.00000000e+00],\n",
       "       [  0.00000000e+00,   1.00000000e-73,   7.20000000e+01,\n",
       "          4.00000000e+00],\n",
       "       [  0.00000000e+00,   1.00000000e-74,   7.30000000e+01,\n",
       "          4.00000000e+00],\n",
       "       [  0.00000000e+00,   1.00000000e-75,   7.40000000e+01,\n",
       "          4.00000000e+00],\n",
       "       [  0.00000000e+00,   1.00000000e-76,   7.50000000e+01,\n",
       "          4.00000000e+00],\n",
       "       [  0.00000000e+00,   1.00000000e-77,   7.60000000e+01,\n",
       "          4.00000000e+00],\n",
       "       [  0.00000000e+00,   1.00000000e-78,   7.70000000e+01,\n",
       "          4.00000000e+00],\n",
       "       [  0.00000000e+00,   1.00000000e-79,   7.80000000e+01,\n",
       "          4.00000000e+00],\n",
       "       [  0.00000000e+00,   1.00000000e-80,   7.90000000e+01,\n",
       "          4.00000000e+00],\n",
       "       [  0.00000000e+00,   1.00000000e-81,   8.00000000e+01,\n",
       "          4.00000000e+00],\n",
       "       [  0.00000000e+00,   1.00000000e-82,   8.10000000e+01,\n",
       "          4.00000000e+00],\n",
       "       [  0.00000000e+00,   1.00000000e-83,   8.20000000e+01,\n",
       "          4.00000000e+00],\n",
       "       [  0.00000000e+00,   1.00000000e-84,   8.30000000e+01,\n",
       "          4.00000000e+00],\n",
       "       [  0.00000000e+00,   1.00000000e-85,   8.40000000e+01,\n",
       "          4.00000000e+00],\n",
       "       [  0.00000000e+00,   1.00000000e-86,   8.50000000e+01,\n",
       "          4.00000000e+00],\n",
       "       [  0.00000000e+00,   1.00000000e-87,   8.60000000e+01,\n",
       "          4.00000000e+00],\n",
       "       [  0.00000000e+00,   1.00000000e-88,   8.70000000e+01,\n",
       "          4.00000000e+00],\n",
       "       [  0.00000000e+00,   1.00000000e-89,   8.80000000e+01,\n",
       "          4.00000000e+00],\n",
       "       [  0.00000000e+00,   1.00000000e-90,   8.90000000e+01,\n",
       "          4.00000000e+00],\n",
       "       [  0.00000000e+00,   1.00000000e-91,   9.00000000e+01,\n",
       "          4.00000000e+00],\n",
       "       [  0.00000000e+00,   1.00000000e-92,   9.10000000e+01,\n",
       "          4.00000000e+00],\n",
       "       [  0.00000000e+00,   1.00000000e-93,   9.20000000e+01,\n",
       "          4.00000000e+00],\n",
       "       [  0.00000000e+00,   1.00000000e-94,   9.30000000e+01,\n",
       "          4.00000000e+00],\n",
       "       [  0.00000000e+00,   1.00000000e-95,   9.40000000e+01,\n",
       "          4.00000000e+00],\n",
       "       [  0.00000000e+00,   1.00000000e-96,   9.50000000e+01,\n",
       "          4.00000000e+00],\n",
       "       [  0.00000000e+00,   1.00000000e-97,   9.60000000e+01,\n",
       "          4.00000000e+00],\n",
       "       [  0.00000000e+00,   1.00000000e-98,   9.70000000e+01,\n",
       "          4.00000000e+00],\n",
       "       [  0.00000000e+00,   1.00000000e-99,   9.80000000e+01,\n",
       "          4.00000000e+00]])"
      ]
     },
     "execution_count": 33,
     "metadata": {},
     "output_type": "execute_result"
    }
   ],
   "source": [
    "array.reshape(99, 4)"
   ]
  },
  {
   "cell_type": "code",
   "execution_count": 37,
   "metadata": {},
   "outputs": [],
   "source": [
    "# wuynik = np.matmul(array, array.transpose)"
   ]
  },
  {
   "cell_type": "code",
   "execution_count": 43,
   "metadata": {
    "collapsed": true
   },
   "outputs": [],
   "source": [
    "array1 = np.matrix(array)\n",
    "array2 = np.matrix(array.transpose())"
   ]
  },
  {
   "cell_type": "code",
   "execution_count": 49,
   "metadata": {},
   "outputs": [],
   "source": [
    "wynik = np.matmul(array2, array1)"
   ]
  },
  {
   "cell_type": "code",
   "execution_count": 50,
   "metadata": {},
   "outputs": [],
   "source": [
    "data = pd.DataFrame(wynik)"
   ]
  },
  {
   "cell_type": "code",
   "execution_count": 51,
   "metadata": {},
   "outputs": [
    {
     "data": {
      "text/html": [
       "<div>\n",
       "<style>\n",
       "    .dataframe thead tr:only-child th {\n",
       "        text-align: right;\n",
       "    }\n",
       "\n",
       "    .dataframe thead th {\n",
       "        text-align: left;\n",
       "    }\n",
       "\n",
       "    .dataframe tbody tr th {\n",
       "        vertical-align: top;\n",
       "    }\n",
       "</style>\n",
       "<table border=\"1\" class=\"dataframe\">\n",
       "  <thead>\n",
       "    <tr style=\"text-align: right;\">\n",
       "      <th></th>\n",
       "      <th>0</th>\n",
       "      <th>1</th>\n",
       "      <th>2</th>\n",
       "      <th>3</th>\n",
       "    </tr>\n",
       "  </thead>\n",
       "  <tbody>\n",
       "    <tr>\n",
       "      <th>0</th>\n",
       "      <td>238.190347</td>\n",
       "      <td>0.454545</td>\n",
       "      <td>414.828962</td>\n",
       "      <td>0.796073</td>\n",
       "    </tr>\n",
       "    <tr>\n",
       "      <th>1</th>\n",
       "      <td>0.454545</td>\n",
       "      <td>0.010101</td>\n",
       "      <td>0.012346</td>\n",
       "      <td>-0.010101</td>\n",
       "    </tr>\n",
       "    <tr>\n",
       "      <th>2</th>\n",
       "      <td>414.828962</td>\n",
       "      <td>0.012346</td>\n",
       "      <td>318549.000000</td>\n",
       "      <td>18989.171038</td>\n",
       "    </tr>\n",
       "    <tr>\n",
       "      <th>3</th>\n",
       "      <td>0.796073</td>\n",
       "      <td>-0.010101</td>\n",
       "      <td>18989.171038</td>\n",
       "      <td>1344.217507</td>\n",
       "    </tr>\n",
       "  </tbody>\n",
       "</table>\n",
       "</div>"
      ],
      "text/plain": [
       "            0         1              2             3\n",
       "0  238.190347  0.454545     414.828962      0.796073\n",
       "1    0.454545  0.010101       0.012346     -0.010101\n",
       "2  414.828962  0.012346  318549.000000  18989.171038\n",
       "3    0.796073 -0.010101   18989.171038   1344.217507"
      ]
     },
     "execution_count": 51,
     "metadata": {},
     "output_type": "execute_result"
    }
   ],
   "source": [
    "data"
   ]
  },
  {
   "cell_type": "code",
   "execution_count": 52,
   "metadata": {
    "collapsed": true
   },
   "outputs": [],
   "source": [
    "import matplotlib.pyplot as plt"
   ]
  },
  {
   "cell_type": "code",
   "execution_count": 53,
   "metadata": {
    "collapsed": true
   },
   "outputs": [],
   "source": [
    "%matplotlib inline"
   ]
  },
  {
   "cell_type": "code",
   "execution_count": 71,
   "metadata": {},
   "outputs": [
    {
     "data": {
      "text/plain": [
       "<matplotlib.figure.Figure at 0x20398801160>"
      ]
     },
     "metadata": {},
     "output_type": "display_data"
    }
   ],
   "source": [
    "fig = plt.figure(figsize = (5,4))"
   ]
  },
  {
   "cell_type": "code",
   "execution_count": 84,
   "metadata": {},
   "outputs": [
    {
     "name": "stderr",
     "output_type": "stream",
     "text": [
      "C:\\Users\\pawel\\Anaconda3\\lib\\site-packages\\matplotlib\\cbook\\deprecation.py:106: MatplotlibDeprecationWarning: Adding an axes using the same arguments as a previous axes currently reuses the earlier instance.  In a future version, a new instance will always be created and returned.  Meanwhile, this warning can be suppressed, and the future behavior ensured, by passing a unique label to each axes instance.\n",
      "  warnings.warn(message, mplDeprecation, stacklevel=1)\n"
     ]
    }
   ],
   "source": [
    "axis = fig.add_axes([0, 0, 1, 1])\n",
    "axis2 = fig.add_axes([0.5, 0.5, 0.3, 0.3])"
   ]
  },
  {
   "cell_type": "code",
   "execution_count": 85,
   "metadata": {},
   "outputs": [
    {
     "data": {
      "text/plain": [
       "[<matplotlib.lines.Line2D at 0x20398761160>]"
      ]
     },
     "execution_count": 85,
     "metadata": {},
     "output_type": "execute_result"
    }
   ],
   "source": [
    "\n"
   ]
  },
  {
   "cell_type": "code",
   "execution_count": 100,
   "metadata": {},
   "outputs": [
    {
     "data": {
      "text/plain": [
       "[<matplotlib.lines.Line2D at 0x20398a595c0>]"
      ]
     },
     "execution_count": 100,
     "metadata": {},
     "output_type": "execute_result"
    }
   ],
   "source": [
    "axis.set_xlabel('x')\n",
    "axis.set_ylabel('y')\n",
    "axis.set_title('wartosc')\n",
    "axis2.set_xlim(left=0, right=15)\n",
    "axis2.set_ylim(bottom=0, top=5)\n",
    "axis.plot(dataframe['index'], dataframe['result'], color='red')\n",
    "axis2.plot(dataframe['index'], dataframe['result'], color='red')"
   ]
  },
  {
   "cell_type": "code",
   "execution_count": 101,
   "metadata": {},
   "outputs": [
    {
     "data": {
      "image/png": "[encoded data removed]",
      "text/plain": [
       "<matplotlib.figure.Figure at 0x20398801160>"
      ]
     },
     "execution_count": 101,
     "metadata": {},
     "output_type": "execute_result"
    }
   ],
   "source": [
    "fig"
   ]
  },
  {
   "cell_type": "code",
   "execution_count": null,
   "metadata": {
    "collapsed": true
   },
   "outputs": [],
   "source": []
  },
  {
   "cell_type": "code",
   "execution_count": 110,
   "metadata": {},
   "outputs": [],
   "source": [
    "array = np.arange(5,10, 0.001)"
   ]
  },
  {
   "cell_type": "code",
   "execution_count": 111,
   "metadata": {},
   "outputs": [
    {
     "data": {
      "text/plain": [
       "array([ 5.   ,  5.001,  5.002, ...,  9.997,  9.998,  9.999])"
      ]
     },
     "execution_count": 111,
     "metadata": {},
     "output_type": "execute_result"
    }
   ],
   "source": [
    "array"
   ]
  },
  {
   "cell_type": "code",
   "execution_count": 112,
   "metadata": {
    "collapsed": true
   },
   "outputs": [],
   "source": [
    "new_array = np.linspace(5, 10, num=100)"
   ]
  },
  {
   "cell_type": "code",
   "execution_count": 241,
   "metadata": {},
   "outputs": [],
   "source": [
    "class Kwadratura:\n",
    "    def __init__(self, function, a, b, ranges):\n",
    "        self.function = function\n",
    "        self.a = a\n",
    "        self.b = b\n",
    "        self.list_of_elements = np.linspace(a,b,ranges).tolist()\n",
    "        self._element = len(self.list_of_elements)\n",
    "        self._suma = 0\n",
    "    \n",
    "    def __str__(self):\n",
    "        return ', '.join([str(x) for x in self.list_of_elements])\n",
    "    \n",
    "    def find_sum_left(self):\n",
    "        for index, _ in enumerate(self.list_of_elements):\n",
    "            if index < len(self.list_of_elements) -1:\n",
    "                wartosc2 = self.function(self.list_of_elements[index+1])\n",
    "                self._suma+=(wartosc2-0)*(self.list_of_elements[index+1] - self.list_of_elements[index])\n",
    "                \n",
    "    def find_sum_mean(self):\n",
    "        for index, _ in enumerate(self.list_of_elements):\n",
    "            if index < len(self.list_of_elements) -1:\n",
    "                wartosc2 = (self.function(self.list_of_elements[index+1]) + self.function(self.list_of_elements[index]))/2\n",
    "                self._suma+=(wartosc2-0)*(self.list_of_elements[index+1] - self.list_of_elements[index])\n",
    "                \n",
    "    @property\n",
    "    def suma(self):\n",
    "        return self._suma\n",
    "    \n",
    "    @suma.getter\n",
    "    def suma(self):\n",
    "        return self._suma\n",
    "    \n",
    "    @property\n",
    "    def element(self):\n",
    "        return self._element\n",
    "    \n",
    "    @suma.getter\n",
    "    def element(self):\n",
    "        return self._element\n",
    "    \n",
    "                \n",
    "            \n",
    "        \n",
    "        "
   ]
  },
  {
   "cell_type": "code",
   "execution_count": 242,
   "metadata": {
    "collapsed": true
   },
   "outputs": [],
   "source": [
    "def funkcja(x):\n",
    "    return x**2"
   ]
  },
  {
   "cell_type": "code",
   "execution_count": 244,
   "metadata": {},
   "outputs": [
    {
     "data": {
      "text/plain": [
       "333.33383333399036"
      ]
     },
     "execution_count": 244,
     "metadata": {},
     "output_type": "execute_result"
    }
   ],
   "source": [
    "kw = Kwadratura(funkcja, 0,10, 1000000)\n",
    "kw.find_sum_left()\n",
    "kw.suma"
   ]
  },
  {
   "cell_type": "code",
   "execution_count": 245,
   "metadata": {},
   "outputs": [
    {
     "data": {
      "text/plain": [
       "333.3333333334927"
      ]
     },
     "execution_count": 245,
     "metadata": {},
     "output_type": "execute_result"
    }
   ],
   "source": [
    "kw2 = Kwadratura(funkcja, 0,10, 1000000)\n",
    "kw2.find_sum_mean()\n",
    "kw2.suma"
   ]
  },
  {
   "cell_type": "code",
   "execution_count": 246,
   "metadata": {},
   "outputs": [],
   "source": [
    "# kw3 = Kwadratura(funkcja, 0,10, 1000000)\n",
    "# kw3.find_sum_trap()"
   ]
  },
  {
   "cell_type": "code",
   "execution_count": null,
   "metadata": {},
   "outputs": [],
   "source": []
  },
  {
   "cell_type": "code",
   "execution_count": null,
   "metadata": {},
   "outputs": [],
   "source": []
  },
  {
   "cell_type": "code",
   "execution_count": null,
   "metadata": {
    "collapsed": true
   },
   "outputs": [],
   "source": []
  }
 ],
 "metadata": {
  "kernelspec": {
   "display_name": "Python 3",
   "language": "python",
   "name": "python3"
  },
  "language_info": {
   "codemirror_mode": {
    "name": "ipython",
    "version": 3
   },
   "file_extension": ".py",
   "mimetype": "text/x-python",
   "name": "python",
   "nbconvert_exporter": "python",
   "pygments_lexer": "ipython3",
   "version": "3.6.3"
  }
 },
 "nbformat": 4,
 "nbformat_minor": 2
}
